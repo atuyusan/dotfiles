
((digest . "dcc2c0dc5869777effd5646e33423756") (undo-list nil ("k" . -19) ((marker . 19) . -1) (19 . 20) 12 (t 23629 48729 697253 556000) nil undo-tree-canary))
